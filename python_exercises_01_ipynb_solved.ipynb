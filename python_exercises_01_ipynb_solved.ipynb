{
  "nbformat": 4,
  "nbformat_minor": 0,
  "metadata": {
    "colab": {
      "name": "python_exercises_01.ipynb.solved",
      "provenance": [],
      "collapsed_sections": [],
      "include_colab_link": true
    },
    "kernelspec": {
      "name": "python3",
      "display_name": "Python 3"
    }
  },
  "cells": [
    {
      "cell_type": "markdown",
      "metadata": {
        "id": "view-in-github",
        "colab_type": "text"
      },
      "source": [
        "<a href=\"https://colab.research.google.com/github/rafaelmaus/br-python-condensed/blob/main/python_exercises_01_ipynb_solved.ipynb\" target=\"_parent\"><img src=\"https://colab.research.google.com/assets/colab-badge.svg\" alt=\"Open In Colab\"/></a>"
      ]
    },
    {
      "cell_type": "markdown",
      "metadata": {
        "id": "8YqaSZgXYJ5g"
      },
      "source": [
        "![](https://i.imgur.com/YX6UATs.png)\n"
      ]
    },
    {
      "cell_type": "markdown",
      "metadata": {
        "id": "hhUVzDipaGb9"
      },
      "source": [
        "### **Exercícios de Python - 1** \n",
        "\n",
        "\n",
        "\n"
      ]
    },
    {
      "cell_type": "markdown",
      "metadata": {
        "id": "qMGp-h8OaGqr"
      },
      "source": [
        "1 - Faça um programa, com uma função que necessite de três argumentos, e que forneça a soma desses três argumentos."
      ]
    },
    {
      "cell_type": "code",
      "metadata": {
        "id": "kTg-D89NdCld"
      },
      "source": [
        "#criando uma função pedindo os argumentos para o usuário\n",
        " def funcao_tres_argumentos():\n",
        "  dado1 = input(\"Informe o primeiro dado. **Atenção: use apenas números inteiros. \")\n",
        "  dado2 = input(\"Informe o segundo dado. **Atenção: use apenas números inteiros. \")\n",
        "  dado3 = input(\"Informe o terceiro dado. **Atenção: use apenas números inteiros. \")\n",
        "  soma_dos_dados = (float(dado1)+float(dado2)+float(dado3))\n",
        "  print(f\"O valor da soma é {soma_dos_dados}\")"
      ],
      "execution_count": null,
      "outputs": []
    },
    {
      "cell_type": "code",
      "metadata": {
        "colab": {
          "base_uri": "https://localhost:8080/"
        },
        "id": "GyjjcN7VT2fD",
        "outputId": "92b93978-f6c7-4ff5-8d01-bf228f039a7e"
      },
      "source": [
        "#chamando a função\n",
        "funcao_tres_argumentos()"
      ],
      "execution_count": null,
      "outputs": [
        {
          "output_type": "stream",
          "text": [
            "Informe o primeiro dado. **Atenção: use apenas números inteiros. 10\n",
            "Informe o segundo dado. **Atenção: use apenas números inteiros. 10\n",
            "Informe o terceiro dado. **Atenção: use apenas números inteiros. 10\n",
            "O valor da soma é 30.0\n"
          ],
          "name": "stdout"
        }
      ]
    },
    {
      "cell_type": "code",
      "metadata": {
        "id": "TTBw9kuXVlqd"
      },
      "source": [
        "#criando uma função usando 'soma'\n",
        "#usando o format de um jeito diferente\n",
        "def soma(a,b,c):\n",
        "  soma = a + b + c\n",
        "  print(\"O valor da soma é {}\".format(soma))"
      ],
      "execution_count": null,
      "outputs": []
    },
    {
      "cell_type": "code",
      "metadata": {
        "colab": {
          "base_uri": "https://localhost:8080/"
        },
        "id": "jyHD0cidWIgy",
        "outputId": "24a49123-2340-48b9-ebc2-1e0760ac9f71"
      },
      "source": [
        "#chamando a função\n",
        "soma(10,10,10)"
      ],
      "execution_count": null,
      "outputs": [
        {
          "output_type": "stream",
          "text": [
            "O valor da soma é 30\n"
          ],
          "name": "stdout"
        }
      ]
    },
    {
      "cell_type": "markdown",
      "metadata": {
        "id": "KdLXZftIaG60"
      },
      "source": [
        "2 - Faça um Programa que peça a temperatura em graus Celsius, transforme e mostre em graus Fahrenheit. \\\n",
        "*Dica: procure a fórmula para essa conversão na internet*"
      ]
    },
    {
      "cell_type": "markdown",
      "metadata": {
        "id": "_hKGkDr0WrOu"
      },
      "source": [
        "**Fórmula de Conversão (Celsius para Fahrenheit):** \\\n",
        "$(°C*1,8)+32$"
      ]
    },
    {
      "cell_type": "code",
      "metadata": {
        "id": "MNINJ32eU45M"
      },
      "source": [
        "#criando uma função pedindo os argumentos para o usuário\n",
        "def programa_conversao():\n",
        "   celsius = input(\"Informe o valor da temperatura em Celsius. **Atenção: use apenas números inteiros. \")\n",
        "   conversao = (float(celsius)*1.8)+32\n",
        "   print(f\"O valor em Fahrenheit {conversao} °F\")"
      ],
      "execution_count": null,
      "outputs": []
    },
    {
      "cell_type": "code",
      "metadata": {
        "colab": {
          "base_uri": "https://localhost:8080/"
        },
        "id": "kZJ2HbQXYuSz",
        "outputId": "fa48d619-e4d1-416a-de80-023d226b2681"
      },
      "source": [
        "#chamando a funcao\n",
        "programa_conversao()"
      ],
      "execution_count": null,
      "outputs": [
        {
          "output_type": "stream",
          "text": [
            "Informe o valor da temperatura em Celsius. **Atenção: use apenas números inteiros. 40\n",
            "O valor em Fahrenheit 104.0 °F\n"
          ],
          "name": "stdout"
        }
      ]
    },
    {
      "cell_type": "markdown",
      "metadata": {
        "id": "4OETBVgmaGzX"
      },
      "source": [
        "3 - Faça um Programa que peça um número inteiro e determine se ele é par ou impar. Dica: utilize o operador módulo (resto da divisão)."
      ]
    },
    {
      "cell_type": "code",
      "metadata": {
        "id": "WbzCimFZVSr1"
      },
      "source": [
        "#criando uma função pedindo os argumentos para o usuário\n",
        "def identificar_numero():\n",
        "  dado1 = input(\"Informe o numero. **Atenção: use apenas números inteiros. \")\n",
        "  identificacao = float(dado1)%2\n",
        "  if identificacao >= 1:\n",
        "   print(\"Número ímpar\")\n",
        "  else:\n",
        "    print(\"Número par\")\n"
      ],
      "execution_count": null,
      "outputs": []
    },
    {
      "cell_type": "code",
      "metadata": {
        "colab": {
          "base_uri": "https://localhost:8080/"
        },
        "id": "V2qywRa9e8qn",
        "outputId": "50b7a3f3-a23d-474c-a634-62fd861697af"
      },
      "source": [
        "#chamando a funcao\n",
        "identificar_numero()"
      ],
      "execution_count": null,
      "outputs": [
        {
          "output_type": "stream",
          "text": [
            "Informe o numero. **Atenção: use apenas números inteiros. 11\n",
            "Número ímpar\n"
          ],
          "name": "stdout"
        }
      ]
    },
    {
      "cell_type": "markdown",
      "metadata": {
        "id": "7zPJ8sgPaGw0"
      },
      "source": [
        "4 - Faça um programa que peça o tamanho de um arquivo para download (em MB) e a velocidade de um link de Internet (em Mbps), calcule e informe o tempo aproximado de download do arquivo usando este link (em minutos)."
      ]
    },
    {
      "cell_type": "code",
      "metadata": {
        "id": "l4qtSxU7XquB",
        "colab": {
          "base_uri": "https://localhost:8080/"
        },
        "outputId": "be37687f-cf0b-48ee-e971-f0341b03a099"
      },
      "source": [
        "#criando a função\n",
        "#pedindo que o usuário informe os dados\n",
        "#faz a conversão velocidade da internet vs velocidade do download\n",
        "#faz o calculo em minutos\n",
        "#faz o cálculo em segundos\n",
        "#imprime o resultado com o format\n",
        "def tempo_download():\n",
        "  tamanho_arquivo = float(input(\"Qual o tamanho do arquivo que será baixado? **Atenção: informar em MB. \"))\n",
        "  velocidade_internet = float(input(\"Qual a valocidade da internet? **Atenção: informar em Mbps. \"))\n",
        "  velocidade_do_download = velocidade_internet/8\n",
        "  minutos = (tamanho_arquivo/velocidade_do_download)/60\n",
        "  segundos = (minutos - int(minutos))*60  \n",
        "  print(f\"O tempo estimado é de: {int(minutos)} minutos e {int(segundos)} segundos.\")\n",
        "\n",
        "#chamando a função\n",
        "tempo_download()"
      ],
      "execution_count": null,
      "outputs": [
        {
          "output_type": "stream",
          "text": [
            "Qual o tamanho do arquivo que será baixado? **Atenção: informar em MB. 1000\n",
            "Qual a valocidade da internet? **Atenção: informar em Mbps. 50\n",
            "O tempo estimado é de: 2 minutos e 39 segundos.\n"
          ],
          "name": "stdout"
        }
      ]
    },
    {
      "cell_type": "markdown",
      "metadata": {
        "id": "0tkhm6EUaG1u"
      },
      "source": [
        "15 - Faça um programa para a leitura de duas notas parciais de um aluno. O programa deve calcular a média alcançada por aluno e apresentar:\n",
        "- A mensagem \"Aprovado\", se a média alcançada for maior ou igual a sete;\n",
        "- A mensagem \"Reprovado\", se a média for menor do que sete;\n",
        "- A mensagem \"Aprovado com Distinção\", se a média for igual a dez."
      ]
    },
    {
      "cell_type": "code",
      "metadata": {
        "id": "szPrrvW-PesG"
      },
      "source": [
        "#criando a função\n",
        "#pedindo que o usuário informe os dados\n",
        "#calculando a média entre as provas\n",
        "#arrendondando\n",
        "#construindo o if-elif-else\n",
        "def media_final():\n",
        "  ProvaN1 = float(input(\"Qual a nota da primeira prova? \"))\n",
        "  ProvaN2 = float(input(\"Qual a nota da segunda prova? \"))\n",
        "  media = (ProvaN1+ProvaN2)/2\n",
        "  media_arredondada = round(media,2)\n",
        "  if media_arredondada<7:\n",
        "     print(\"Reprovado\")\n",
        "  elif media_arredondada>=7 and media<10:\n",
        "     print(\"Aprovado\")\n",
        "  else:\n",
        "     print(\"Aprovado com distinção\")"
      ],
      "execution_count": null,
      "outputs": []
    },
    {
      "cell_type": "code",
      "metadata": {
        "colab": {
          "base_uri": "https://localhost:8080/"
        },
        "id": "3cJcH3PnPsGQ",
        "outputId": "0de57f2e-2287-464e-9320-63e523ed1114"
      },
      "source": [
        "#chamando a função\n",
        "media_final()"
      ],
      "execution_count": null,
      "outputs": [
        {
          "output_type": "stream",
          "text": [
            "Qual a nota da primeira prova? 10.0\n",
            "Qual a nota da segunda prova? 10.0\n",
            "Aprovado com distinção\n"
          ],
          "name": "stdout"
        }
      ]
    },
    {
      "cell_type": "markdown",
      "metadata": {
        "id": "Lm1tOKThnU42"
      },
      "source": [
        "Exercícios adaptados de Python Brasil"
      ]
    }
  ]
}