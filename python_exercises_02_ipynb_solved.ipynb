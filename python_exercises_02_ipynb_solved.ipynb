{
  "nbformat": 4,
  "nbformat_minor": 0,
  "metadata": {
    "colab": {
      "name": "python_exercises_02.ipynb.solved",
      "provenance": [],
      "collapsed_sections": [],
      "include_colab_link": true
    },
    "kernelspec": {
      "name": "python3",
      "display_name": "Python 3"
    }
  },
  "cells": [
    {
      "cell_type": "markdown",
      "metadata": {
        "id": "view-in-github",
        "colab_type": "text"
      },
      "source": [
        "<a href=\"https://colab.research.google.com/github/rafaelmaus/br-python-condensed/blob/main/python_exercises_02_ipynb_solved.ipynb\" target=\"_parent\"><img src=\"https://colab.research.google.com/assets/colab-badge.svg\" alt=\"Open In Colab\"/></a>"
      ]
    },
    {
      "cell_type": "markdown",
      "metadata": {
        "id": "8YqaSZgXYJ5g"
      },
      "source": [
        "![](https://i.imgur.com/YX6UATs.png)\n"
      ]
    },
    {
      "cell_type": "markdown",
      "metadata": {
        "id": "hhUVzDipaGb9"
      },
      "source": [
        "### **Exercícios de Python - 2** \n",
        "\n",
        "\n",
        "\n"
      ]
    },
    {
      "cell_type": "markdown",
      "metadata": {
        "id": "c62cM2VlKFqN"
      },
      "source": [
        "1 - Faça um programa que leia um nome de usuário e a sua senha e não aceite a senha igual ao nome do usuário, mostrando uma mensagem de erro."
      ]
    },
    {
      "cell_type": "code",
      "metadata": {
        "id": "A3ajzaOSq69B"
      },
      "source": [
        "#criando uma função\n",
        "def check_senha():\n",
        "#pedindo o input do nome do usuário  \n",
        "  nome_usuário = input(\"Informe seu nome. \")\n",
        "#pedindo o input da senha do usuário\n",
        "  senha_usuário = input(\"Informe sua senha. \")\n",
        "#criando a condicional para verificar se a senha será igual ou diferente do nome do usuário\n",
        "  if nome_usuário == senha_usuário:\n",
        "    print(\"Sua senha não pode ser idêntica ao seu nome!\")\n",
        "  else:\n",
        "    print(\"Login efetuado com sucesso!\")"
      ],
      "execution_count": null,
      "outputs": []
    },
    {
      "cell_type": "code",
      "metadata": {
        "colab": {
          "base_uri": "https://localhost:8080/"
        },
        "id": "uX8uPCTsE1AU",
        "outputId": "dc52d67f-9e71-4e57-d173-810e62ec0796"
      },
      "source": [
        "#chamando a função - teste para dar certo\n",
        "check_senha()"
      ],
      "execution_count": null,
      "outputs": [
        {
          "output_type": "stream",
          "text": [
            "Informe seu nome. Rafael\n",
            "Informe sua senha. @123\n",
            "Login efetuado com sucesso!\n"
          ],
          "name": "stdout"
        }
      ]
    },
    {
      "cell_type": "code",
      "metadata": {
        "colab": {
          "base_uri": "https://localhost:8080/"
        },
        "id": "GYaYbEmqFF-m",
        "outputId": "4b69888d-d41b-48db-acc9-80a4278efd31"
      },
      "source": [
        "#chamando a função - teste para dar errado\n",
        "check_senha()"
      ],
      "execution_count": null,
      "outputs": [
        {
          "output_type": "stream",
          "text": [
            "Informe seu nome. Rafael\n",
            "Informe sua senha. Rafael\n",
            "Sua senha não pode ser idêntica ao seu nome!\n"
          ],
          "name": "stdout"
        }
      ]
    },
    {
      "cell_type": "code",
      "metadata": {
        "id": "3iUttORZGzQn"
      },
      "source": [
        "#baseado no exemplo do Mateus\n",
        "def check_senha2():\n",
        "  import getpass\n",
        "  nome_usuário = input(\"Informe seu nome: \")\n",
        "  senha_usuário = getpass.getpass(\"Informe sua senha: \")\n",
        "  while nome_usuário == senha_usuário:\n",
        "    print(\"Sua senha não pode ser idêntica ao seu nome!\")\n",
        "    print(\"*\"*80)\n",
        "    nome_usuário = input(\"Informe seu nome: \")\n",
        "    senha_usuário = getpass.getpass(\"Informe sua senha: \")\n",
        "    print(\"*\"*80)\n",
        "    print(\"Login efetuado com sucesso!\")"
      ],
      "execution_count": null,
      "outputs": []
    },
    {
      "cell_type": "code",
      "metadata": {
        "colab": {
          "base_uri": "https://localhost:8080/"
        },
        "id": "H0OFJQXgHkvK",
        "outputId": "5b4ab69c-6855-4060-8615-8d1184314f96"
      },
      "source": [
        "check_senha2()"
      ],
      "execution_count": null,
      "outputs": [
        {
          "output_type": "stream",
          "text": [
            "Informe seu nome: rafael\n",
            "Informe sua senha: ··········\n",
            "Sua senha não pode ser idêntica ao seu nome!\n",
            "********************************************************************************\n",
            "Informe seu nome: rafael\n",
            "Informe sua senha: ··········\n",
            "********************************************************************************\n",
            "Login efetuado com sucesso!\n"
          ],
          "name": "stdout"
        }
      ]
    },
    {
      "cell_type": "markdown",
      "metadata": {
        "id": "qMGp-h8OaGqr"
      },
      "source": [
        "2 - Utilizando listas faça um programa que faça 5 perguntas para uma pessoa sobre um crime. As perguntas são:\n",
        "- \"Telefonou para a vítima?\"\n",
        "- \"Esteve no local do crime?\"\n",
        "- \"Mora perto da vítima?\"\n",
        "- \"Devia para a vítima?\"\n",
        "- \"Já trabalhou com a vítima?\" \\\n",
        "O programa deve no final emitir uma classificação sobre a participação da pessoa no crime. Se a pessoa responder positivamente a 2 questões ela deve ser classificada como \"Suspeita\", entre 3 e 4 como \"Cúmplice\" e 5 como \"Assassino\". Caso contrário, ele será classificado como \"Inocente\"."
      ]
    },
    {
      "cell_type": "code",
      "metadata": {
        "colab": {
          "base_uri": "https://localhost:8080/"
        },
        "id": "tc_6xNH5eOZS",
        "outputId": "29e26e20-22df-41f2-c743-445f1d471f00"
      },
      "source": [
        "#criando a lista\n",
        "lista_respostas = []\n",
        "lista_respostas.append(input(\"Você telefonou para a vítima? - Responder com 1 para Sim ou 0 para Não. \"))\n",
        "lista_respostas.append(input(\"Você esteve no local do crime? - Responder com 1 para Sim ou 0 para Não. \"))\n",
        "lista_respostas.append(input(\"Você mora perto da vítima - Responder com 1 para Sim ou 0 para Não. \"))\n",
        "lista_respostas.append(input(\"Você devia para a vítima? - Responder com 1 para Sim ou 0 para Não. \"))\n",
        "lista_respostas.append(input(\"Você já trabalhou com a vítima? - Responder com 1 para Sim ou 0 para Não. \"))\n",
        "#criando uma variável de valor zero\n",
        "soma_resp = 0\n",
        "#criando uma função para calcular as respostas\n",
        "for i in lista_respostas:\n",
        "  soma_resp = soma_resp + int(i)\n",
        "#criando a condicional para verificar a classificação\n",
        "if soma_resp < 2:\n",
        "  print(\"Inocente\")\n",
        "elif soma_resp == 2:\n",
        "  print(\"Suspeita\")\n",
        "elif soma_resp <= 3 and soma_resp <= 4:\n",
        "  print(\"Cúmplice\")\n",
        "else:\n",
        "  print(\"Culpada\")"
      ],
      "execution_count": null,
      "outputs": [
        {
          "output_type": "stream",
          "text": [
            "Você telefonou para a vítima? - Responder com 1 para Sim ou 0 para Não. 1\n",
            "Você esteve no local do crime? - Responder com 1 para Sim ou 0 para Não. 1\n",
            "Você mora perto da vítima - Responder com 1 para Sim ou 0 para Não. 0\n",
            "Você devia para a vítima? - Responder com 1 para Sim ou 0 para Não. 0\n",
            "Você já trabalhou com a vítima? - Responder com 1 para Sim ou 0 para Não. 0\n",
            "Suspeita\n"
          ],
          "name": "stdout"
        }
      ]
    },
    {
      "cell_type": "markdown",
      "metadata": {
        "id": "FTK9nE4pdB1D"
      },
      "source": [
        "13 - A lista abaixo possui nomes de alunos de uma classe. Crie um loop que imprima '{nome} é aluno da classe'\n"
      ]
    },
    {
      "cell_type": "code",
      "metadata": {
        "id": "nW4SbDxTmx4t"
      },
      "source": [
        "#nomeando a lista\n",
        "lista_alunos = ['Maria','João','Marcelo','Jonas','Laura','Luana']"
      ],
      "execution_count": null,
      "outputs": []
    },
    {
      "cell_type": "code",
      "metadata": {
        "id": "0sRr8MXCpbGP",
        "colab": {
          "base_uri": "https://localhost:8080/"
        },
        "outputId": "d72b93fe-ebe1-4d59-8695-2d966bf50f6d"
      },
      "source": [
        "#'imprimindo' a mensagem para cada item dentro do dicionário\n",
        "for aluno in lista_alunos:\n",
        "  print(f\"{aluno} é aluno da classe\")"
      ],
      "execution_count": null,
      "outputs": [
        {
          "output_type": "stream",
          "text": [
            "Maria é aluno da classe\n",
            "João é aluno da classe\n",
            "Marcelo é aluno da classe\n",
            "Jonas é aluno da classe\n",
            "Laura é aluno da classe\n",
            "Luana é aluno da classe\n"
          ],
          "name": "stdout"
        }
      ]
    },
    {
      "cell_type": "markdown",
      "metadata": {
        "id": "_HbJNv8MaG4g"
      },
      "source": [
        "4 - Utilizando-se da mesma lista trabalhada acima e a lista dada abaixo, que contem as idades dos alunos, realize um loop que faça a iteração com as duas listas printando \"{nome} tem {idade} anos\".\n",
        "Dica: utilize *zip*()"
      ]
    },
    {
      "cell_type": "code",
      "metadata": {
        "id": "LJDxmAbJeO9V"
      },
      "source": [
        "#criando listas para nome e idade dos alunos\n",
        "lista_alunos = ['Maria','João','Marcelo','Jonas','Laura','Luana']\n",
        "idade_alunos = [23,34,42,54,26,27]"
      ],
      "execution_count": null,
      "outputs": []
    },
    {
      "cell_type": "code",
      "metadata": {
        "id": "Kq1Lc7Ukps-V",
        "colab": {
          "base_uri": "https://localhost:8080/"
        },
        "outputId": "ccab717c-1273-4eca-a5cb-62f8f3074b40"
      },
      "source": [
        "#criando uma função com zip para usar mais de uma lista ao mesmo tempo\n",
        "for a,i in zip(lista_alunos,idade_alunos):\n",
        "  print(f\"{a} tem {i} anos de idade.\")"
      ],
      "execution_count": null,
      "outputs": [
        {
          "output_type": "stream",
          "text": [
            "Maria tem 23 anos de idade.\n",
            "João tem 34 anos de idade.\n",
            "Marcelo tem 42 anos de idade.\n",
            "Jonas tem 54 anos de idade.\n",
            "Laura tem 26 anos de idade.\n",
            "Luana tem 27 anos de idade.\n"
          ],
          "name": "stdout"
        }
      ]
    },
    {
      "cell_type": "markdown",
      "metadata": {
        "id": "0tkhm6EUaG1u"
      },
      "source": [
        "5 - Transforme as duas listas anteriores em um dicionário cuja chave é o nome e o valor é a idade."
      ]
    },
    {
      "cell_type": "code",
      "metadata": {
        "id": "BkK-CBZmmrrl"
      },
      "source": [
        "#criando um dicionário geral\n",
        "lista_geral_dict = {}\n",
        "#usando a lista de nomes dos alunos\n",
        "lista_alunos = ['Maria','João','Marcelo','Jonas','Laura','Luana']\n",
        "#usando a lista de idades dos alunos\n",
        "idade_alunos = [23,34,42,54,26,27]\n"
      ],
      "execution_count": null,
      "outputs": []
    },
    {
      "cell_type": "code",
      "metadata": {
        "id": "8BeQkCNCpEx6"
      },
      "source": [
        "#criando um função para transformar as listas em dicionários - exemplo Mateus\n",
        "for a,i in zip(lista_alunos, idade_alunos):\n",
        "  lista_geral_dict[a] = {}\n",
        "  lista_geral_dict[a]['idade: '] = i\n"
      ],
      "execution_count": null,
      "outputs": []
    },
    {
      "cell_type": "code",
      "metadata": {
        "id": "BwaIqJ7zpkfF",
        "colab": {
          "base_uri": "https://localhost:8080/"
        },
        "outputId": "5bcc5dac-4edf-4408-d8f2-cbbde66065aa"
      },
      "source": [
        "lista_geral_dict"
      ],
      "execution_count": null,
      "outputs": [
        {
          "output_type": "execute_result",
          "data": {
            "text/plain": [
              "{'Jonas': {'idade: ': 54},\n",
              " 'João': {'idade: ': 34},\n",
              " 'Laura': {'idade: ': 26},\n",
              " 'Luana': {'idade: ': 27},\n",
              " 'Marcelo': {'idade: ': 42},\n",
              " 'Maria': {'idade: ': 23}}"
            ]
          },
          "metadata": {
            "tags": []
          },
          "execution_count": 117
        }
      ]
    },
    {
      "cell_type": "markdown",
      "metadata": {
        "id": "Lm1tOKThnU42"
      },
      "source": [
        "Exercícios adaptados de Python Brasil"
      ]
    }
  ]
}