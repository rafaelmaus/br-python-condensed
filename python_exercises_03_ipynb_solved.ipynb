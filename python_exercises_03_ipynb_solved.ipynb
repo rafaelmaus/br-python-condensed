{
  "nbformat": 4,
  "nbformat_minor": 0,
  "metadata": {
    "colab": {
      "name": "python_exercises_03.ipynb.solved",
      "provenance": [],
      "collapsed_sections": [],
      "include_colab_link": true
    },
    "kernelspec": {
      "name": "python3",
      "display_name": "Python 3"
    }
  },
  "cells": [
    {
      "cell_type": "markdown",
      "metadata": {
        "id": "view-in-github",
        "colab_type": "text"
      },
      "source": [
        "<a href=\"https://colab.research.google.com/github/rafaelmaus/br-python-condensed/blob/main/python_exercises_03_ipynb_solved.ipynb\" target=\"_parent\"><img src=\"https://colab.research.google.com/assets/colab-badge.svg\" alt=\"Open In Colab\"/></a>"
      ]
    },
    {
      "cell_type": "markdown",
      "metadata": {
        "id": "8YqaSZgXYJ5g"
      },
      "source": [
        "![](https://i.imgur.com/YX6UATs.png)\n"
      ]
    },
    {
      "cell_type": "markdown",
      "metadata": {
        "id": "hhUVzDipaGb9"
      },
      "source": [
        "### **Exercícios de Python - 3** \n",
        "\n",
        "\n",
        "\n"
      ]
    },
    {
      "cell_type": "markdown",
      "metadata": {
        "id": "7O6AZt8-aGlr"
      },
      "source": [
        "1 - Classe Bola:\\\n",
        "Crie uma classe que modele uma bola:\n",
        "\n",
        "Atributos: Cor, material\\\n",
        "Métodos: trocaCor "
      ]
    },
    {
      "cell_type": "code",
      "metadata": {
        "id": "ibipMzmZcfIF"
      },
      "source": [
        "class Bola():\n",
        "  #inicializando os atributos da classe\n",
        "  def __init__(self, cor, material):\n",
        "    self.cor = cor\n",
        "    self.material = material\n",
        "  #criando msg para check\n",
        "  def msg_check_bola(self):\n",
        "    print(f\"A bola é {self.cor} e é feita de {self.material}.\")\n",
        "  #criando método para trocar a cor da bola\n",
        "  def troca_cor_bola(self,nova_cor=\"Marrom\"):\n",
        "    self.cor = nova_cor\n"
      ],
      "execution_count": 52,
      "outputs": []
    },
    {
      "cell_type": "code",
      "metadata": {
        "id": "Y8VCXtda-kPF"
      },
      "source": [
        "#criando um objeto\n",
        "bola1 = Bola(\"Preta\",\"Couro\")"
      ],
      "execution_count": 53,
      "outputs": []
    },
    {
      "cell_type": "code",
      "metadata": {
        "colab": {
          "base_uri": "https://localhost:8080/",
          "height": 35
        },
        "id": "O2SaInMl-w9E",
        "outputId": "abee8eca-978a-4d2b-d384-4f3c182e81fe"
      },
      "source": [
        "#chamando um atributo\n",
        "bola1.cor"
      ],
      "execution_count": 54,
      "outputs": [
        {
          "output_type": "execute_result",
          "data": {
            "application/vnd.google.colaboratory.intrinsic+json": {
              "type": "string"
            },
            "text/plain": [
              "'Preta'"
            ]
          },
          "metadata": {
            "tags": []
          },
          "execution_count": 54
        }
      ]
    },
    {
      "cell_type": "code",
      "metadata": {
        "colab": {
          "base_uri": "https://localhost:8080/"
        },
        "id": "XkctIcCR_8kR",
        "outputId": "e508fa3b-e474-441c-a60d-5c85496186f4"
      },
      "source": [
        "#check\n",
        "bola1.msg_check_bola()"
      ],
      "execution_count": 55,
      "outputs": [
        {
          "output_type": "stream",
          "text": [
            "A bola é Preta e é feita de Couro.\n"
          ],
          "name": "stdout"
        }
      ]
    },
    {
      "cell_type": "code",
      "metadata": {
        "colab": {
          "base_uri": "https://localhost:8080/",
          "height": 35
        },
        "id": "e-8vn0RZ-0Ec",
        "outputId": "a4569aac-9398-4c38-e8d6-c46131f3e471"
      },
      "source": [
        "#chamando um atributo\n",
        "bola1.material"
      ],
      "execution_count": 56,
      "outputs": [
        {
          "output_type": "execute_result",
          "data": {
            "application/vnd.google.colaboratory.intrinsic+json": {
              "type": "string"
            },
            "text/plain": [
              "'Couro'"
            ]
          },
          "metadata": {
            "tags": []
          },
          "execution_count": 56
        }
      ]
    },
    {
      "cell_type": "code",
      "metadata": {
        "id": "ahuzcAcf_Etg"
      },
      "source": [
        "#criando um objeto\n",
        "bola2 = Bola(\"Branca\",\"Plástico\")"
      ],
      "execution_count": 57,
      "outputs": []
    },
    {
      "cell_type": "code",
      "metadata": {
        "colab": {
          "base_uri": "https://localhost:8080/",
          "height": 35
        },
        "id": "hHMl9a8k_QjA",
        "outputId": "8de1fedb-f3fd-4e63-cda7-6bb122ef315e"
      },
      "source": [
        "#chamando um atributo\n",
        "bola2.cor"
      ],
      "execution_count": 58,
      "outputs": [
        {
          "output_type": "execute_result",
          "data": {
            "application/vnd.google.colaboratory.intrinsic+json": {
              "type": "string"
            },
            "text/plain": [
              "'Branca'"
            ]
          },
          "metadata": {
            "tags": []
          },
          "execution_count": 58
        }
      ]
    },
    {
      "cell_type": "code",
      "metadata": {
        "colab": {
          "base_uri": "https://localhost:8080/",
          "height": 35
        },
        "id": "grUnbsCE_Th-",
        "outputId": "d2945b39-ea7b-4358-8b8e-b3c25a564d09"
      },
      "source": [
        "#chamando um atributo\n",
        "bola2.material"
      ],
      "execution_count": 59,
      "outputs": [
        {
          "output_type": "execute_result",
          "data": {
            "application/vnd.google.colaboratory.intrinsic+json": {
              "type": "string"
            },
            "text/plain": [
              "'Plástico'"
            ]
          },
          "metadata": {
            "tags": []
          },
          "execution_count": 59
        }
      ]
    },
    {
      "cell_type": "code",
      "metadata": {
        "colab": {
          "base_uri": "https://localhost:8080/"
        },
        "id": "zmCeLq0lAM3Z",
        "outputId": "473e9e71-9afb-4533-e8fa-01f3a2ac7613"
      },
      "source": [
        "#check\n",
        "bola2.msg_check_bola()"
      ],
      "execution_count": 60,
      "outputs": [
        {
          "output_type": "stream",
          "text": [
            "A bola é Branca e é feita de Plástico.\n"
          ],
          "name": "stdout"
        }
      ]
    },
    {
      "cell_type": "code",
      "metadata": {
        "id": "wzGLAtRcA7Xw"
      },
      "source": [
        "#trocando a cor\n",
        "bola1.troca_cor_bola()"
      ],
      "execution_count": 61,
      "outputs": []
    },
    {
      "cell_type": "code",
      "metadata": {
        "colab": {
          "base_uri": "https://localhost:8080/"
        },
        "id": "619fOBF4BPyG",
        "outputId": "fb53fa7a-d3ff-448d-e3fb-93d53c1d989d"
      },
      "source": [
        "#check\n",
        "bola1.msg_check_bola()"
      ],
      "execution_count": 62,
      "outputs": [
        {
          "output_type": "stream",
          "text": [
            "A bola é Marrom e é feita de Couro.\n"
          ],
          "name": "stdout"
        }
      ]
    },
    {
      "cell_type": "code",
      "metadata": {
        "id": "Gc3eHIieBXhC"
      },
      "source": [
        "#trocando a cor\n",
        "bola2.troca_cor_bola()"
      ],
      "execution_count": 63,
      "outputs": []
    },
    {
      "cell_type": "code",
      "metadata": {
        "colab": {
          "base_uri": "https://localhost:8080/"
        },
        "id": "bcVPudtABaTM",
        "outputId": "e1b3fce0-483e-4238-e3ef-d7d7167e44d2"
      },
      "source": [
        "#check\n",
        "bola2.msg_check_bola()"
      ],
      "execution_count": 64,
      "outputs": [
        {
          "output_type": "stream",
          "text": [
            "A bola é Marrom e é feita de Plástico.\n"
          ],
          "name": "stdout"
        }
      ]
    },
    {
      "cell_type": "markdown",
      "metadata": {
        "id": "c62cM2VlKFqN"
      },
      "source": [
        "2 - Classe Quadrado: Crie uma classe que modele um quadrado:\n",
        "\n",
        "Atributos: Tamanho do lado\n",
        "Métodos: Mudar valor do Lado e calcular Área;"
      ]
    },
    {
      "cell_type": "code",
      "metadata": {
        "id": "M_5mNjNbKFMI"
      },
      "source": [
        "class Quadrado():\n",
        "#inicializando os atributos da classe\n",
        "  def __init__(self,tam_lado):\n",
        "    self.tam_lado = tam_lado\n",
        "  \n",
        "#criando msh para check\n",
        "  def msg_check_lado(self):\n",
        "    print(f\"O tamanho do lado é {self.tam_lado}.\")\n",
        "  \n",
        "#criando método para trocar o tamanho do lado\n",
        "  def troca_tam_lado(self,novo_tam_lado):\n",
        "    self.tam_lado = novo_tam_lado\n",
        "\n",
        "#criando uma função que calcule a área do quadrado (Lado²)\n",
        "  def calcula_area(self):\n",
        "    return self.tam_lado * self.tam_lado"
      ],
      "execution_count": 67,
      "outputs": []
    },
    {
      "cell_type": "code",
      "metadata": {
        "id": "Y7QvVXVBDyTb"
      },
      "source": [
        "#criando objetos\n",
        "quadrado1 = Quadrado(5)\n",
        "quadrado2 = Quadrado(10)"
      ],
      "execution_count": 68,
      "outputs": []
    },
    {
      "cell_type": "code",
      "metadata": {
        "colab": {
          "base_uri": "https://localhost:8080/"
        },
        "id": "aKvXA0pmD-2o",
        "outputId": "b0767d3c-60d8-40e7-d8d6-8f0446f8319a"
      },
      "source": [
        "#chamando um objeto\n",
        "quadrado1.tam_lado"
      ],
      "execution_count": 70,
      "outputs": [
        {
          "output_type": "execute_result",
          "data": {
            "text/plain": [
              "5"
            ]
          },
          "metadata": {
            "tags": []
          },
          "execution_count": 70
        }
      ]
    },
    {
      "cell_type": "code",
      "metadata": {
        "colab": {
          "base_uri": "https://localhost:8080/"
        },
        "id": "DI3F-JQ0Eg8W",
        "outputId": "9e6ae5d2-25e7-4a27-d1d5-9207fe6c41ae"
      },
      "source": [
        "#chamando um objeto\n",
        "quadrado2.tam_lado"
      ],
      "execution_count": 71,
      "outputs": [
        {
          "output_type": "execute_result",
          "data": {
            "text/plain": [
              "10"
            ]
          },
          "metadata": {
            "tags": []
          },
          "execution_count": 71
        }
      ]
    },
    {
      "cell_type": "code",
      "metadata": {
        "colab": {
          "base_uri": "https://localhost:8080/"
        },
        "id": "ZvztYwRfEnfV",
        "outputId": "7980fda7-d75b-4fcf-e722-1dac96e74b71"
      },
      "source": [
        "#check\n",
        "quadrado1.msg_check_lado()"
      ],
      "execution_count": 72,
      "outputs": [
        {
          "output_type": "stream",
          "text": [
            "O tamanho do lado é 5.\n"
          ],
          "name": "stdout"
        }
      ]
    },
    {
      "cell_type": "code",
      "metadata": {
        "colab": {
          "base_uri": "https://localhost:8080/"
        },
        "id": "cvDBHQD4EwLC",
        "outputId": "02a48609-72f6-4ec8-95ec-e50bc20f7572"
      },
      "source": [
        "#check\n",
        "quadrado2.msg_check_lado()"
      ],
      "execution_count": 73,
      "outputs": [
        {
          "output_type": "stream",
          "text": [
            "O tamanho do lado é 10.\n"
          ],
          "name": "stdout"
        }
      ]
    },
    {
      "cell_type": "code",
      "metadata": {
        "colab": {
          "base_uri": "https://localhost:8080/"
        },
        "id": "gA_EwBDdE1Ol",
        "outputId": "fb5d15b4-36cd-45b2-a01f-24b7250799d6"
      },
      "source": [
        "#calculando a área\n",
        "quadrado1.calcula_area()"
      ],
      "execution_count": 74,
      "outputs": [
        {
          "output_type": "execute_result",
          "data": {
            "text/plain": [
              "25"
            ]
          },
          "metadata": {
            "tags": []
          },
          "execution_count": 74
        }
      ]
    },
    {
      "cell_type": "code",
      "metadata": {
        "colab": {
          "base_uri": "https://localhost:8080/"
        },
        "id": "TnrWAL-bFAdL",
        "outputId": "d1520727-9ed8-4f6b-aab8-637dc9f5e237"
      },
      "source": [
        "#calculando a área\n",
        "quadrado2.calcula_area()"
      ],
      "execution_count": 75,
      "outputs": [
        {
          "output_type": "execute_result",
          "data": {
            "text/plain": [
              "100"
            ]
          },
          "metadata": {
            "tags": []
          },
          "execution_count": 75
        }
      ]
    },
    {
      "cell_type": "code",
      "metadata": {
        "id": "132oIfolFFw_"
      },
      "source": [
        "#alterando o tamanho do lado do quadrado\n",
        "quadrado1.troca_tam_lado(4)\n",
        "quadrado2.troca_tam_lado(3)"
      ],
      "execution_count": 77,
      "outputs": []
    },
    {
      "cell_type": "code",
      "metadata": {
        "colab": {
          "base_uri": "https://localhost:8080/"
        },
        "id": "DWKeJ2XaFZAv",
        "outputId": "3423a653-e0b2-47c6-c666-9bda589dd611"
      },
      "source": [
        "#chamando um objeto\n",
        "quadrado1.tam_lado"
      ],
      "execution_count": 78,
      "outputs": [
        {
          "output_type": "execute_result",
          "data": {
            "text/plain": [
              "4"
            ]
          },
          "metadata": {
            "tags": []
          },
          "execution_count": 78
        }
      ]
    },
    {
      "cell_type": "code",
      "metadata": {
        "colab": {
          "base_uri": "https://localhost:8080/"
        },
        "id": "0l35hoVFFbhx",
        "outputId": "cd908a9d-67f6-406b-fe6a-a24c64a18f1b"
      },
      "source": [
        "#chamando um objeto\n",
        "quadrado2.tam_lado"
      ],
      "execution_count": 79,
      "outputs": [
        {
          "output_type": "execute_result",
          "data": {
            "text/plain": [
              "3"
            ]
          },
          "metadata": {
            "tags": []
          },
          "execution_count": 79
        }
      ]
    },
    {
      "cell_type": "code",
      "metadata": {
        "colab": {
          "base_uri": "https://localhost:8080/"
        },
        "id": "cSXyX2CTFg2X",
        "outputId": "71d96801-027e-4663-e1c4-8f44727867e3"
      },
      "source": [
        "#check\n",
        "quadrado1.msg_check_lado()"
      ],
      "execution_count": 80,
      "outputs": [
        {
          "output_type": "stream",
          "text": [
            "O tamanho do lado é 4.\n"
          ],
          "name": "stdout"
        }
      ]
    },
    {
      "cell_type": "code",
      "metadata": {
        "colab": {
          "base_uri": "https://localhost:8080/"
        },
        "id": "jnix-OS2Fjw4",
        "outputId": "3a88bbf2-2d5d-4e6c-97ce-a2df061fb962"
      },
      "source": [
        "#check\n",
        "quadrado2.msg_check_lado()"
      ],
      "execution_count": 81,
      "outputs": [
        {
          "output_type": "stream",
          "text": [
            "O tamanho do lado é 3.\n"
          ],
          "name": "stdout"
        }
      ]
    },
    {
      "cell_type": "code",
      "metadata": {
        "colab": {
          "base_uri": "https://localhost:8080/"
        },
        "id": "Cshhh-IzFnI4",
        "outputId": "de3869f6-17f0-49fe-dafb-166d35c02d31"
      },
      "source": [
        "#calculando a área\n",
        "quadrado1.calcula_area()"
      ],
      "execution_count": 82,
      "outputs": [
        {
          "output_type": "execute_result",
          "data": {
            "text/plain": [
              "16"
            ]
          },
          "metadata": {
            "tags": []
          },
          "execution_count": 82
        }
      ]
    },
    {
      "cell_type": "code",
      "metadata": {
        "colab": {
          "base_uri": "https://localhost:8080/"
        },
        "id": "-E-NqDQJFo5D",
        "outputId": "ffebd885-7982-4c09-fd1b-aca286914933"
      },
      "source": [
        "#calculando a área\n",
        "quadrado2.calcula_area()"
      ],
      "execution_count": 83,
      "outputs": [
        {
          "output_type": "execute_result",
          "data": {
            "text/plain": [
              "9"
            ]
          },
          "metadata": {
            "tags": []
          },
          "execution_count": 83
        }
      ]
    },
    {
      "cell_type": "markdown",
      "metadata": {
        "id": "qMGp-h8OaGqr"
      },
      "source": [
        "3 - Classe funcionário \\\n",
        "Crie uma classe que crie funcionários de uma empresa.\\\n",
        "Atributos: Nome, Função, Salário. \\\n",
        "Métodos: aumento anual. O aumento anual deve ser de 10%.\\\n",
        "Crie dois objetos e dê um aument de 10% a um deles e um aumento de 20% ao outro."
      ]
    },
    {
      "cell_type": "code",
      "metadata": {
        "id": "3lzz274Thi0Y"
      },
      "source": [
        "class Funcionario():\n",
        "#inicializando os atributos da classe\n",
        "  def __init__(self,nome,funcao,salario=10000.00):\n",
        "    self.nome = nome\n",
        "    self.funcao = funcao\n",
        "    self.salario = salario\n",
        "\n",
        "#criando uma mensagem informativa\n",
        "  def msg_rh(self):\n",
        "    print(f\"O colaborador {self.nome} está alocado como {self.funcao} e tem a remuneração em R$ {self.salario}.\")\n",
        "\n",
        "#criando uma funcao para aumento de salario (10%)\n",
        "  def aumento_salario1(self,aumento=0.1):\n",
        "    self.salario = self.salario +(self.salario*aumento)\n",
        "\n",
        "#criando uma funcao para aumento de salario (20%)\n",
        "  def aumento_salario2(self,aumento=0.2):\n",
        "    self.salario = self.salario +(self.salario*aumento)"
      ],
      "execution_count": 84,
      "outputs": []
    },
    {
      "cell_type": "code",
      "metadata": {
        "id": "Wur3d4baHcLw"
      },
      "source": [
        "#chamando objetos\n",
        "funcionario1 = Funcionario(\"Rafael\",\"Coordenador de Compras\")\n",
        "funcionario2 = Funcionario(\"Antônio\",\"Coordenador de Logística\")"
      ],
      "execution_count": 85,
      "outputs": []
    },
    {
      "cell_type": "code",
      "metadata": {
        "colab": {
          "base_uri": "https://localhost:8080/"
        },
        "id": "EJVySTk2Hb-2",
        "outputId": "90a9072f-85c8-4c7e-d250-1e4a03c66d8c"
      },
      "source": [
        "#check\n",
        "funcionario1.msg_rh()\n",
        "funcionario2.msg_rh()"
      ],
      "execution_count": 86,
      "outputs": [
        {
          "output_type": "stream",
          "text": [
            "O colaborador Rafael está alocado como Coordenador de Compras e tem a remuneração em R$ 10000.0.\n",
            "O colaborador Antônio está alocado como Coordenador de Logística e tem a remuneração em R$ 10000.0.\n"
          ],
          "name": "stdout"
        }
      ]
    },
    {
      "cell_type": "code",
      "metadata": {
        "id": "6WkmuVbLHb2f"
      },
      "source": [
        "#aumentando os salários\n",
        "funcionario1.aumento_salario1()\n",
        "funcionario2.aumento_salario2()"
      ],
      "execution_count": 87,
      "outputs": []
    },
    {
      "cell_type": "code",
      "metadata": {
        "colab": {
          "base_uri": "https://localhost:8080/"
        },
        "id": "_9WDQ9G6HbsQ",
        "outputId": "71668e2e-4f3f-4e53-f876-06913021c895"
      },
      "source": [
        "#check\n",
        "funcionario1.msg_rh()\n",
        "funcionario2.msg_rh()"
      ],
      "execution_count": 88,
      "outputs": [
        {
          "output_type": "stream",
          "text": [
            "O colaborador Rafael está alocado como Coordenador de Compras e tem a remuneração em R$ 11000.0.\n",
            "O colaborador Antônio está alocado como Coordenador de Logística e tem a remuneração em R$ 12000.0.\n"
          ],
          "name": "stdout"
        }
      ]
    },
    {
      "cell_type": "markdown",
      "metadata": {
        "id": "lCMWrvt3P4_x"
      },
      "source": [
        "04 - Utilizando a biblioteca Numpy, obtenha as médias, medianas e desvios padrão de altura, peso e IMC dos membros do dicionário a seguir:\\\n",
        "Trasforme os dicionários em um numpy array e utilize os métodos próprios dessa classe."
      ]
    },
    {
      "cell_type": "markdown",
      "metadata": {
        "id": "VW63jq9yMeg-"
      },
      "source": [
        "***copiada a resolução do Mateus**"
      ]
    },
    {
      "cell_type": "code",
      "metadata": {
        "id": "l4qtSxU7XquB"
      },
      "source": [
        "clientes = {'Charlotte': {'altura': 1.56, 'imc': 21, 'peso': 52, 'sexo': 'F'},\n",
        " 'Claudia': {'altura': 1.56, 'imc': 25, 'peso': 62, 'sexo': 'F'},\n",
        " 'Jonas': {'altura': 1.56, 'imc': 21, 'peso': 52, 'sexo': 'M'},\n",
        " 'Martha': {'altura': 1.98, 'imc': 19, 'peso': 76, 'sexo': 'F'},\n",
        " 'Mikkel': {'altura': 1.56, 'imc': 28, 'peso': 67, 'sexo': 'M'},\n",
        " 'Ulrich': {'altura': 1.92, 'imc': 22, 'peso': 80, 'sexo': 'M'}}"
      ],
      "execution_count": 90,
      "outputs": []
    },
    {
      "cell_type": "code",
      "metadata": {
        "id": "nv9z8He8hOLf",
        "colab": {
          "base_uri": "https://localhost:8080/"
        },
        "outputId": "ba3b7e2e-6e64-4c22-ab14-1830bb63da4c"
      },
      "source": [
        "#importando a biblioteca numpy\n",
        "import numpy as np\n",
        "\n",
        "#inicializando as listas\n",
        "altura = []\n",
        "peso = []\n",
        "imc = []\n",
        "\n",
        "#criando listas contendo altura-peso-imc\n",
        "for c in clientes:\n",
        "  altura.append(clientes[c]['altura'])\n",
        "  peso.append(clientes[c]['peso'])\n",
        "  imc.append(clientes[c]['imc'])\n",
        "\n",
        "#criando uma array em numpy com altura-peso-imc\n",
        "array_numpy = np.array([altura,peso,imc], np.float)\n",
        "array_numpy"
      ],
      "execution_count": 91,
      "outputs": [
        {
          "output_type": "execute_result",
          "data": {
            "text/plain": [
              "array([[ 1.56,  1.56,  1.56,  1.98,  1.56,  1.92],\n",
              "       [52.  , 62.  , 52.  , 76.  , 67.  , 80.  ],\n",
              "       [21.  , 25.  , 21.  , 19.  , 28.  , 22.  ]])"
            ]
          },
          "metadata": {
            "tags": []
          },
          "execution_count": 91
        }
      ]
    },
    {
      "cell_type": "code",
      "metadata": {
        "colab": {
          "base_uri": "https://localhost:8080/"
        },
        "id": "UjR5IBhlLFIM",
        "outputId": "294e2fae-c589-48a0-b4d7-7c1ddc61b633"
      },
      "source": [
        "#verificando o número de dimensões do array\n",
        "print(\"O array criado possui\", array_numpy.ndim, \"dimensões.\")\n",
        "\n",
        "#verificando o tamanho do array\n",
        "tamanho = [i for i in array_numpy.shape]\n",
        "print(\"O array possui\", tamanho[0], \"linhas e\", tamanho[1], \"colunas.\")"
      ],
      "execution_count": 96,
      "outputs": [
        {
          "output_type": "stream",
          "text": [
            "O array criado possui 2 dimensões.\n",
            "O array possui 3 linhas e 6 colunas.\n"
          ],
          "name": "stdout"
        }
      ]
    },
    {
      "cell_type": "code",
      "metadata": {
        "colab": {
          "base_uri": "https://localhost:8080/"
        },
        "id": "NGfs1T2fNwiw",
        "outputId": "f25d9371-73d4-4174-a618-d594b2e4aee8"
      },
      "source": [
        "#calculando a Média, Mediana e Desvio Padrão das alturas\n",
        "print(\"A média das alturas é de: \", array_numpy[0].mean())\n",
        "print(\"O desvio padrão das alturas é de: \", array_numpy[0].std())\n",
        "print(\"A mediana das alturas é de: \", np.median(array_numpy[0]))"
      ],
      "execution_count": 100,
      "outputs": [
        {
          "output_type": "stream",
          "text": [
            "A média das alturas é de:  1.6900000000000002\n",
            "O desvio padrão das alturas é de:  0.18466185312619385\n",
            "A mediana das alturas é de:  1.56\n"
          ],
          "name": "stdout"
        }
      ]
    },
    {
      "cell_type": "code",
      "metadata": {
        "colab": {
          "base_uri": "https://localhost:8080/"
        },
        "id": "f58lB1onPMoo",
        "outputId": "88b1a02f-1e73-4cb7-e4ac-d72dc1c76996"
      },
      "source": [
        "#calculando a Média, Mediana e Desvio Padrão dos pesos\n",
        "print(\"A média dos pesos é de: \", array_numpy[1].mean())\n",
        "print(\"O desvio padrão dos pesos é de: \", array_numpy[1].std())\n",
        "print(\"A mediana dos pesos é de: \", np.median(array_numpy[1]))"
      ],
      "execution_count": 101,
      "outputs": [
        {
          "output_type": "stream",
          "text": [
            "A média dos pesos é de:  64.83333333333333\n",
            "O desvio padrão dos pesos é de:  10.77677544021814\n",
            "A mediana dos pesos é de:  64.5\n"
          ],
          "name": "stdout"
        }
      ]
    },
    {
      "cell_type": "code",
      "metadata": {
        "colab": {
          "base_uri": "https://localhost:8080/"
        },
        "id": "pX4_RaMfPlwM",
        "outputId": "09d62269-e08a-4023-fed4-6afcccc2bb92"
      },
      "source": [
        "#calculando a Média, Mediana e Desvio Padrão dos imcs\n",
        "print(\"A média dos imcs é de: \", array_numpy[2].mean())\n",
        "print(\"O desvio padrão dos imcs é de: \", array_numpy[2].std())\n",
        "print(\"A mediana dos imcs é de: \", np.median(array_numpy[2]))"
      ],
      "execution_count": 103,
      "outputs": [
        {
          "output_type": "stream",
          "text": [
            "A média dos imcs é de:  22.666666666666668\n",
            "O desvio padrão dos imcs é de:  2.981423969999719\n",
            "A mediana dos imcs é de:  21.5\n"
          ],
          "name": "stdout"
        }
      ]
    },
    {
      "cell_type": "markdown",
      "metadata": {
        "id": "1a_TuuI6QDWa"
      },
      "source": [
        "05 - Realize o mesmo procedimento com a biblioteca Statistics\n"
      ]
    },
    {
      "cell_type": "markdown",
      "metadata": {
        "id": "7v0A2Tf4QMlU"
      },
      "source": [
        "***copiada a resolução do Mateus**"
      ]
    },
    {
      "cell_type": "code",
      "metadata": {
        "id": "y64mwLBVhN1L"
      },
      "source": [
        "import statistics as st"
      ],
      "execution_count": 104,
      "outputs": []
    },
    {
      "cell_type": "code",
      "metadata": {
        "colab": {
          "base_uri": "https://localhost:8080/"
        },
        "id": "FRDxwFRaQQfK",
        "outputId": "f4d87406-dda8-4aa2-9483-130ad27c0118"
      },
      "source": [
        "#calculando a Média, Desvio Padrão e Mediana das alturas utilizando a biblioteca Statistics\n",
        "print(\"A média das alturas é de: \", st.mean(array_numpy[0]))\n",
        "print(\"O desvio padrão das alturas é de: \", st.stdev(array_numpy[0]))\n",
        "print(\"A mediana das alturas é de: \", st.median(array_numpy[0]))"
      ],
      "execution_count": 106,
      "outputs": [
        {
          "output_type": "stream",
          "text": [
            "A média das alturas é de:  1.69\n",
            "O desvio padrão das alturas é de:  0.20228692493584446\n",
            "A mediana das alturas é de:  1.56\n"
          ],
          "name": "stdout"
        }
      ]
    },
    {
      "cell_type": "code",
      "metadata": {
        "colab": {
          "base_uri": "https://localhost:8080/"
        },
        "id": "fQJJxHLARZJx",
        "outputId": "f3681254-8f63-4038-c900-8969b1bc79d1"
      },
      "source": [
        "#calculando a Média, Desvio Padrão e Mediana dos pesos utilizando a biblioteca Statistics\n",
        "print(\"A média dos pesos é de: \", st.mean(array_numpy[1]))\n",
        "print(\"O desvio padrão dos pesos é de: \", st.stdev(array_numpy[1]))\n",
        "print(\"A mediana dos pesos é de: \", st.median(array_numpy[1]))"
      ],
      "execution_count": 107,
      "outputs": [
        {
          "output_type": "stream",
          "text": [
            "A média dos pesos é de:  64.83333333333333\n",
            "O desvio padrão dos pesos é de:  11.805366011550285\n",
            "A mediana dos pesos é de:  64.5\n"
          ],
          "name": "stdout"
        }
      ]
    },
    {
      "cell_type": "code",
      "metadata": {
        "colab": {
          "base_uri": "https://localhost:8080/"
        },
        "id": "igrshk3DRkTs",
        "outputId": "3fd5de51-80ac-4009-82ab-57bb0120e4b6"
      },
      "source": [
        "#calculando a Média, Desvio Padrão e Mediana dos imcs utilizando a biblioteca Statistics\n",
        "print(\"A média dos imcs é de: \", st.mean(array_numpy[2]))\n",
        "print(\"O desvio padrão dos imcs é de: \", st.stdev(array_numpy[2]))\n",
        "print(\"A mediana dos imcs é de: \", st.median(array_numpy[2]))"
      ],
      "execution_count": 108,
      "outputs": [
        {
          "output_type": "stream",
          "text": [
            "A média dos imcs é de:  22.666666666666668\n",
            "O desvio padrão dos imcs é de:  3.265986323710904\n",
            "A mediana dos imcs é de:  21.5\n"
          ],
          "name": "stdout"
        }
      ]
    },
    {
      "cell_type": "markdown",
      "metadata": {
        "id": "Lm1tOKThnU42"
      },
      "source": [
        "Exercícios adaptados de Python Brasil"
      ]
    }
  ]
}